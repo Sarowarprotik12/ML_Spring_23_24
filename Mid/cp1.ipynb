{
  "nbformat": 4,
  "nbformat_minor": 0,
  "metadata": {
    "colab": {
      "provenance": []
    },
    "kernelspec": {
      "name": "python3",
      "display_name": "Python 3"
    },
    "language_info": {
      "name": "python"
    }
  },
  "cells": [
    {
      "cell_type": "code",
      "execution_count": null,
      "metadata": {
        "colab": {
          "base_uri": "https://localhost:8080/"
        },
        "id": "rUmCj78Sge5W",
        "outputId": "d521b0b7-5afd-4cbc-a613-02b5969d1ef2"
      },
      "outputs": [
        {
          "output_type": "stream",
          "name": "stdout",
          "text": [
            "Requirement already satisfied: numpy in /usr/local/lib/python3.10/dist-packages (1.23.5)\n"
          ]
        }
      ],
      "source": [
        "!pip install numpy"
      ]
    },
    {
      "cell_type": "code",
      "source": [
        "!pip install pandas"
      ],
      "metadata": {
        "colab": {
          "base_uri": "https://localhost:8080/"
        },
        "id": "z_g8Y7zGhUix",
        "outputId": "766240c0-ffaf-41a2-bd10-28edf4eb3ed4"
      },
      "execution_count": null,
      "outputs": [
        {
          "output_type": "stream",
          "name": "stdout",
          "text": [
            "Requirement already satisfied: pandas in /usr/local/lib/python3.10/dist-packages (1.5.3)\n",
            "Requirement already satisfied: python-dateutil>=2.8.1 in /usr/local/lib/python3.10/dist-packages (from pandas) (2.8.2)\n",
            "Requirement already satisfied: pytz>=2020.1 in /usr/local/lib/python3.10/dist-packages (from pandas) (2023.4)\n",
            "Requirement already satisfied: numpy>=1.21.0 in /usr/local/lib/python3.10/dist-packages (from pandas) (1.23.5)\n",
            "Requirement already satisfied: six>=1.5 in /usr/local/lib/python3.10/dist-packages (from python-dateutil>=2.8.1->pandas) (1.16.0)\n"
          ]
        }
      ]
    },
    {
      "cell_type": "code",
      "source": [
        "import matplotlib.pyplot as plt\n",
        "import random\n",
        "import math\n",
        "\n",
        "# Define the input values\n",
        "X1 = [0, 0, 1, 1]\n",
        "X2 = [0, 1, 0, 1]\n",
        "\n",
        "# Define the outputs for OR and XOR\n",
        "Y1 = [0, 1, 1, 1]  # OR\n",
        "Y2 = [0, 1, 1, 0]  # XOR\n",
        "\n",
        "# Plot the points\n",
        "plt.figure()\n",
        "\n",
        "for i in range(len(Y1)):\n",
        "    # Plot points based on the output\n",
        "    if Y1[i] == 0:\n",
        "        plt.plot(X1[i], X2[i], \"ro\")  # Red circle for output 0\n",
        "    else:\n",
        "        plt.plot(X1[i], X2[i], \"go\")  # Green circle for output 1\n",
        "\n",
        "plt.show()"
      ],
      "metadata": {
        "colab": {
          "base_uri": "https://localhost:8080/",
          "height": 430
        },
        "id": "u27uVjFhhkTW",
        "outputId": "616d117e-ce1e-42a5-f839-48e72dac4514"
      },
      "execution_count": null,
      "outputs": [
        {
          "output_type": "display_data",
          "data": {
            "text/plain": [
              "<Figure size 640x480 with 1 Axes>"
            ],
            "image/png": "[encoded data removed]"
          },
          "metadata": {}
        }
      ]
    },
    {
      "cell_type": "code",
      "source": [
        "W = [random.random(), random.random()]\n",
        "b = random.random()\n",
        "print(W,b)\n",
        "lr = 0.80\n",
        "theta = 0.5"
      ],
      "metadata": {
        "colab": {
          "base_uri": "https://localhost:8080/"
        },
        "id": "CHDtkDFvhxmM",
        "outputId": "4d42452b-f30b-4283-d8d4-7ff91d737fd5"
      },
      "execution_count": null,
      "outputs": [
        {
          "output_type": "stream",
          "name": "stdout",
          "text": [
            "[0.41086058613672227, 0.976659517127886] 0.7705900473294895\n"
          ]
        }
      ]
    },
    {
      "cell_type": "code",
      "source": [
        "epoch = 0\n",
        "while epoch < 4:\n",
        "    total_error = 0\n",
        "    print(f\"Epoch: {epoch}\")\n",
        "\n",
        "    # Count of consecutive correct predictions\n",
        "    correct_count = 0\n",
        "\n",
        "    # Iterate through each sample\n",
        "    for i in range(len(X1)):\n",
        "        # Calculate weighted sum\n",
        "        weighted_sum = W[0] * X1[i] + W[1] * X2[i] + b\n",
        "\n",
        "        # Make prediction based on threshold\n",
        "        pred = 1 if weighted_sum > theta else 0\n",
        "\n",
        "        # Calculate error\n",
        "        error = Y1[i] - pred\n",
        "\n",
        "        # Update weights and bias\n",
        "        if error != 0:\n",
        "            correct_count = 0\n",
        "            total_error += math.sqrt(error ** 2)\n",
        "            W[0] += lr * error * X1[i]\n",
        "            W[1] += lr * error * X2[i]\n",
        "            b += lr * error\n",
        "        else:\n",
        "            correct_count += 1\n",
        "\n",
        "        # Print prediction\n",
        "        print(f\"[{X1[i]}, {X2[i]}] = {pred}\")\n",
        "\n",
        "    # Print total error for the epoch\n",
        "    print(f\"Loss: {total_error}\")\n",
        "    print(\"------------------------------\")\n",
        "\n",
        "    # Increment epoch\n",
        "    epoch += 1"
      ],
      "metadata": {
        "colab": {
          "base_uri": "https://localhost:8080/"
        },
        "id": "Gt2JcgWEj1NH",
        "outputId": "d0e29f00-3eac-4249-b909-b23bd72ea809"
      },
      "execution_count": null,
      "outputs": [
        {
          "output_type": "stream",
          "name": "stdout",
          "text": [
            "Epoch: 0\n",
            "[0, 0] = 1\n",
            "[0, 1] = 1\n",
            "[1, 0] = 0\n",
            "[1, 1] = 1\n",
            "Loss: 2.0\n",
            "------------------------------\n",
            "Epoch: 1\n",
            "[0, 0] = 1\n",
            "[0, 1] = 1\n",
            "[1, 0] = 1\n",
            "[1, 1] = 1\n",
            "Loss: 1.0\n",
            "------------------------------\n",
            "Epoch: 2\n",
            "[0, 0] = 0\n",
            "[0, 1] = 1\n",
            "[1, 0] = 1\n",
            "[1, 1] = 1\n",
            "Loss: 0\n",
            "------------------------------\n",
            "Epoch: 3\n",
            "[0, 0] = 0\n",
            "[0, 1] = 1\n",
            "[1, 0] = 1\n",
            "[1, 1] = 1\n",
            "Loss: 0\n",
            "------------------------------\n"
          ]
        }
      ]
    },
    {
      "cell_type": "code",
      "source": [
        "epoch = 0\n",
        "while epoch < 4:\n",
        "    total_error = 0\n",
        "    print(f\"Epoch: {epoch}\")\n",
        "\n",
        "    # Count of consecutive correct predictions\n",
        "    correct_count = 0\n",
        "\n",
        "    # Iterate through each sample\n",
        "    for i in range(len(X1)):\n",
        "        # Calculate weighted sum\n",
        "        weighted_sum = W[0] * X1[i] + W[1] * X2[i] + b\n",
        "\n",
        "        # Make prediction based on threshold\n",
        "        pred = 1 if weighted_sum > theta else 0\n",
        "\n",
        "        # Calculate error\n",
        "        error = Y2[i] - pred\n",
        "\n",
        "        # Update weights and bias\n",
        "        if error != 0:\n",
        "            correct_count = 0\n",
        "            total_error += math.sqrt(error ** 2)\n",
        "            W[0] += lr * error * X1[i]\n",
        "            W[1] += lr * error * X2[i]\n",
        "            b += lr * error\n",
        "        else:\n",
        "            correct_count += 1\n",
        "\n",
        "        # Print prediction\n",
        "        print(f\"[{X1[i]}, {X2[i]}] = {pred}\")\n",
        "\n",
        "    # Print total error for the epoch\n",
        "    print(f\"Loss: {total_error}\")\n",
        "    print(\"------------------------------\")\n",
        "\n",
        "    # Increment epoch\n",
        "    epoch += 1"
      ],
      "metadata": {
        "id": "GQgWf6mUmA4K",
        "outputId": "f482c2b1-ef4f-4d5c-a723-fd705380f911",
        "colab": {
          "base_uri": "https://localhost:8080/"
        }
      },
      "execution_count": null,
      "outputs": [
        {
          "output_type": "stream",
          "name": "stdout",
          "text": [
            "Epoch: 0\n",
            "[0, 0] = 0\n",
            "[0, 1] = 1\n",
            "[1, 0] = 1\n",
            "[1, 1] = 1\n",
            "Loss: 1.0\n",
            "------------------------------\n",
            "Epoch: 1\n",
            "[0, 0] = 0\n",
            "[0, 1] = 0\n",
            "[1, 0] = 0\n",
            "[1, 1] = 1\n",
            "Loss: 3.0\n",
            "------------------------------\n",
            "Epoch: 2\n",
            "[0, 0] = 0\n",
            "[0, 1] = 0\n",
            "[1, 0] = 1\n",
            "[1, 1] = 1\n",
            "Loss: 2.0\n",
            "------------------------------\n",
            "Epoch: 3\n",
            "[0, 0] = 0\n",
            "[0, 1] = 0\n",
            "[1, 0] = 0\n",
            "[1, 1] = 1\n",
            "Loss: 3.0\n",
            "------------------------------\n"
          ]
        }
      ]
    }
  ]
}